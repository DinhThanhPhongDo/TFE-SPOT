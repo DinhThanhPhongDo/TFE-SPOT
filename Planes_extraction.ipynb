{
 "cells": [
  {
   "cell_type": "code",
   "execution_count": 1,
   "metadata": {},
   "outputs": [
    {
     "name": "stdout",
     "output_type": "stream",
     "text": [
      "Jupyter environment detected. Enabling Open3D WebVisualizer.\n",
      "[Open3D INFO] WebRTC GUI backend enabled.\n",
      "[Open3D INFO] WebRTCWindowSystem: HTTP handshake server disabled.\n"
     ]
    }
   ],
   "source": [
    "import numpy as np\n",
    "import copy\n",
    "import open3d as o3d\n",
    "from sklearn.decomposition import PCA\n",
    "import time"
   ]
  },
  {
   "cell_type": "code",
   "execution_count": 5,
   "metadata": {},
   "outputs": [],
   "source": [
    "def ransac2(pcd, thresh=0.1,kn=2,epoch=1000) :\n",
    "    \"\"\"\n",
    "    points = np.array(N,3)\n",
    "    \"\"\"\n",
    "    t1 = time.time()\n",
    "    pts = np.array(pcd.points)\n",
    "    best_n_inliers = 0\n",
    "    i =0\n",
    "    pcd_tree = o3d.geometry.KDTreeFlann(pcd)\n",
    "    best_plane = [0,0,0,0]\n",
    "    best_inlier_mask = np.zeros(len(pts))\n",
    "    while (i < epoch) :\n",
    "        # TODO Générer un plan à partir de curr_pnt\n",
    "        # TODO Inlier/outlier \n",
    "        t2 = time.time()\n",
    "        curr_pnt = pts[np.random.randint(len(pts))]\n",
    "        [k, idx, _] = pcd_tree.search_knn_vector_3d(curr_pnt, kn)\n",
    "        pca = PCA(3)\n",
    "        pca.fit(pts[list(idx)])\n",
    "        mean = pca.mean_\n",
    "        normal = pca.components_[2,:]\n",
    "        d = np.dot(normal,mean)\n",
    "        plane = [normal[0],normal[1],normal[2],d]\n",
    "        t3 = time.time()\n",
    "        dist_pt     = abs(np.dot(normal[:3],pts.T) + d / np.linalg.norm(normal))\n",
    "        inlier_mask = np.less_equal(dist_pt,thresh)\n",
    "        t4 = time.time()\n",
    "        \n",
    "        n_inliers = np.sum(inlier_mask)\n",
    "        if n_inliers> best_n_inliers:\n",
    "            best_plane = plane\n",
    "            best_n_inliers = n_inliers\n",
    "            best_inlier_mask = inlier_mask\n",
    "        i += 1\n",
    "        t5 = time.time()\n",
    "    return best_plane,list(np.where(best_inlier_mask)[0])"
   ]
  },
  {
   "cell_type": "code",
   "execution_count": 31,
   "metadata": {},
   "outputs": [],
   "source": [
    "def ransac(pcd, thresh_d=0.1,thresh_n=0.9,kn=2,epoch=1000) :\n",
    "    \"\"\"\n",
    "    points = np.array(N,3)\n",
    "    \"\"\"\n",
    "\n",
    "    t1 = time.time()\n",
    "    pts = np.array(pcd.points)\n",
    "    \n",
    "    best_n_inliers = 0\n",
    "    i =0\n",
    "    pcd_tree = o3d.geometry.KDTreeFlann(pcd)\n",
    "    \n",
    "    best_plane = [0,0,0,0]\n",
    "    best_inlier_mask = np.zeros(len(pts))\n",
    "\n",
    "    pcd.estimate_normals(search_param=o3d.geometry.KDTreeSearchParamHybrid(radius=0.1, max_nn=30))\n",
    "    pcd_n = np.asarray(pcd.normals)\n",
    "    while (i < epoch) :\n",
    "        # TODO Générer un plan à partir de curr_pnt\n",
    "        # TODO Inlier/outlier \n",
    "        t2 = time.time()\n",
    "        curr_pnt = pts[np.random.randint(len(pts))]\n",
    "        [k, idx, _] = pcd_tree.search_knn_vector_3d(curr_pnt, kn)\n",
    "        pca = PCA(3)\n",
    "        pca.fit(pts[list(idx)])\n",
    "        mean = pca.mean_\n",
    "        normal = pca.components_[2,:]\n",
    "        d = np.dot(normal,mean)\n",
    "        plane = [normal[0],normal[1],normal[2],d]\n",
    "        t3 = time.time()\n",
    "        dist_pt     = abs(np.dot(normal[:3],pts.T) + d / np.linalg.norm(normal))\n",
    "        if np.linalg.norm(normal) > 1 :\n",
    "            print(np.where(abs(np.dot(pcd_n,normal))>1))\n",
    "            1/0\n",
    "        inlier_mask = np.less_equal(dist_pt,thresh_d)*np.greater_equal(np.abs(np.dot(pcd_n,normal)),thresh_n)\n",
    "        t4 = time.time()\n",
    "        \n",
    "        n_inliers = np.sum(inlier_mask)\n",
    "        if n_inliers> best_n_inliers:\n",
    "            best_plane = plane\n",
    "            best_n_inliers = n_inliers\n",
    "            best_inlier_mask = inlier_mask\n",
    "        i += 1\n",
    "        t5 = time.time()\n",
    "    return best_plane,list(np.where(best_inlier_mask)[0])"
   ]
  },
  {
   "cell_type": "code",
   "execution_count": 32,
   "metadata": {},
   "outputs": [],
   "source": [
    "def extract_planes(pcd) :\n",
    "    pcd_plane = pcd.voxel_down_sample(voxel_size=0.1)\n",
    "    #pcd_plane = copy.deepcopy(pcd)\n",
    "    planes = []\n",
    "    inlierss = []\n",
    "    while(len(planes)<7 and len(pcd_plane.points) > 100) :\n",
    "        plane_model, inliers = ransac(pcd_plane,thresh_d = 0.1, kn = 500, epoch=1000)\n",
    "        # plane_model, inliers = pcd_plane.segment_plane(distance_threshold=0.1,\n",
    "        #                                  ransac_n=3,\n",
    "        #                                  num_iterations=10000)\n",
    "        [a, b, c, d] = plane_model\n",
    "        print(f\"Plane equation: {a:.2f}x + {b:.2f}y + {c:.2f}z + {d:.2f} = 0\")\n",
    "        inlier_cloud = pcd_plane.select_by_index(inliers)\n",
    "        inlier_cloud.estimate_normals(\n",
    "        o3d.geometry.KDTreeSearchParamHybrid(radius=0.1, max_nn=30))\n",
    "        inlier_cloud.paint_uniform_color([1.0, 0, 0])\n",
    "        \n",
    "        outlier_cloud = pcd_plane.select_by_index(inliers, invert=True)\n",
    "        outlier_cloud.paint_uniform_color([0, 1.0, 0])\n",
    "        \n",
    "        o3d.visualization.draw_geometries([inlier_cloud, outlier_cloud],\n",
    "                                        zoom=0.8,\n",
    "                                        front=[-0.4999, -0.1659, -0.8499],\n",
    "                                        lookat=[2.1813, 2.0619, 2.0999],\n",
    "                                        up=[0.1204, -0.9852, 0.1215])\n",
    "\n",
    "        pcd_plane = outlier_cloud\n",
    "        planes.append(plane_model)\n",
    "        inlierss.append(inlier_cloud)\n",
    "\n",
    "        # TODO remove points according to the plane\n",
    "    \n",
    "    o3d.visualization.draw_geometries(inlierss+[outlier_cloud],\n",
    "                                        zoom=0.8,\n",
    "                                        front=[-0.4999, -0.1659, -0.8499],\n",
    "                                        lookat=[2.1813, 2.0619, 2.0999],\n",
    "                                        up=[0.1204, -0.9852, 0.1215])\n",
    "    return planes"
   ]
  },
  {
   "cell_type": "code",
   "execution_count": 33,
   "metadata": {},
   "outputs": [
    {
     "name": "stdout",
     "output_type": "stream",
     "text": [
      "(array([], dtype=int64),)\n"
     ]
    },
    {
     "ename": "ZeroDivisionError",
     "evalue": "division by zero",
     "output_type": "error",
     "traceback": [
      "\u001b[1;31m---------------------------------------------------------------------------\u001b[0m",
      "\u001b[1;31mZeroDivisionError\u001b[0m                         Traceback (most recent call last)",
      "\u001b[1;32m~\\AppData\\Local\\Temp/ipykernel_25784/2894413393.py\u001b[0m in \u001b[0;36m<module>\u001b[1;34m\u001b[0m\n\u001b[0;32m      1\u001b[0m \u001b[0mtarget_pcd\u001b[0m \u001b[1;33m=\u001b[0m \u001b[0mo3d\u001b[0m\u001b[1;33m.\u001b[0m\u001b[0mio\u001b[0m\u001b[1;33m.\u001b[0m\u001b[0mread_point_cloud\u001b[0m\u001b[1;33m(\u001b[0m\u001b[1;34m\"hough-plane-python-master\\RES\\map_go_5.pcd\"\u001b[0m\u001b[1;33m)\u001b[0m\u001b[1;33m\u001b[0m\u001b[1;33m\u001b[0m\u001b[0m\n\u001b[1;32m----> 2\u001b[1;33m \u001b[0mextract_planes\u001b[0m\u001b[1;33m(\u001b[0m\u001b[0mtarget_pcd\u001b[0m\u001b[1;33m)\u001b[0m\u001b[1;33m\u001b[0m\u001b[1;33m\u001b[0m\u001b[0m\n\u001b[0m",
      "\u001b[1;32m~\\AppData\\Local\\Temp/ipykernel_25784/1862447935.py\u001b[0m in \u001b[0;36mextract_planes\u001b[1;34m(pcd)\u001b[0m\n\u001b[0;32m      5\u001b[0m     \u001b[0minlierss\u001b[0m \u001b[1;33m=\u001b[0m \u001b[1;33m[\u001b[0m\u001b[1;33m]\u001b[0m\u001b[1;33m\u001b[0m\u001b[1;33m\u001b[0m\u001b[0m\n\u001b[0;32m      6\u001b[0m     \u001b[1;32mwhile\u001b[0m\u001b[1;33m(\u001b[0m\u001b[0mlen\u001b[0m\u001b[1;33m(\u001b[0m\u001b[0mplanes\u001b[0m\u001b[1;33m)\u001b[0m\u001b[1;33m<\u001b[0m\u001b[1;36m7\u001b[0m \u001b[1;32mand\u001b[0m \u001b[0mlen\u001b[0m\u001b[1;33m(\u001b[0m\u001b[0mpcd_plane\u001b[0m\u001b[1;33m.\u001b[0m\u001b[0mpoints\u001b[0m\u001b[1;33m)\u001b[0m \u001b[1;33m>\u001b[0m \u001b[1;36m100\u001b[0m\u001b[1;33m)\u001b[0m \u001b[1;33m:\u001b[0m\u001b[1;33m\u001b[0m\u001b[1;33m\u001b[0m\u001b[0m\n\u001b[1;32m----> 7\u001b[1;33m         \u001b[0mplane_model\u001b[0m\u001b[1;33m,\u001b[0m \u001b[0minliers\u001b[0m \u001b[1;33m=\u001b[0m \u001b[0mransac\u001b[0m\u001b[1;33m(\u001b[0m\u001b[0mpcd_plane\u001b[0m\u001b[1;33m,\u001b[0m\u001b[0mthresh_d\u001b[0m \u001b[1;33m=\u001b[0m \u001b[1;36m0.1\u001b[0m\u001b[1;33m,\u001b[0m \u001b[0mkn\u001b[0m \u001b[1;33m=\u001b[0m \u001b[1;36m500\u001b[0m\u001b[1;33m,\u001b[0m \u001b[0mepoch\u001b[0m\u001b[1;33m=\u001b[0m\u001b[1;36m1000\u001b[0m\u001b[1;33m)\u001b[0m\u001b[1;33m\u001b[0m\u001b[1;33m\u001b[0m\u001b[0m\n\u001b[0m\u001b[0;32m      8\u001b[0m         \u001b[1;31m# plane_model, inliers = pcd_plane.segment_plane(distance_threshold=0.1,\u001b[0m\u001b[1;33m\u001b[0m\u001b[1;33m\u001b[0m\u001b[0m\n\u001b[0;32m      9\u001b[0m         \u001b[1;31m#                                  ransac_n=3,\u001b[0m\u001b[1;33m\u001b[0m\u001b[1;33m\u001b[0m\u001b[0m\n",
      "\u001b[1;32m~\\AppData\\Local\\Temp/ipykernel_25784/1505726758.py\u001b[0m in \u001b[0;36mransac\u001b[1;34m(pcd, thresh_d, thresh_n, kn, epoch)\u001b[0m\n\u001b[0;32m     32\u001b[0m         \u001b[1;32mif\u001b[0m \u001b[0mnp\u001b[0m\u001b[1;33m.\u001b[0m\u001b[0mlinalg\u001b[0m\u001b[1;33m.\u001b[0m\u001b[0mnorm\u001b[0m\u001b[1;33m(\u001b[0m\u001b[0mnormal\u001b[0m\u001b[1;33m)\u001b[0m \u001b[1;33m>\u001b[0m \u001b[1;36m1\u001b[0m \u001b[1;33m:\u001b[0m\u001b[1;33m\u001b[0m\u001b[1;33m\u001b[0m\u001b[0m\n\u001b[0;32m     33\u001b[0m             \u001b[0mprint\u001b[0m\u001b[1;33m(\u001b[0m\u001b[0mnp\u001b[0m\u001b[1;33m.\u001b[0m\u001b[0mwhere\u001b[0m\u001b[1;33m(\u001b[0m\u001b[0mabs\u001b[0m\u001b[1;33m(\u001b[0m\u001b[0mnp\u001b[0m\u001b[1;33m.\u001b[0m\u001b[0mdot\u001b[0m\u001b[1;33m(\u001b[0m\u001b[0mpcd_n\u001b[0m\u001b[1;33m,\u001b[0m\u001b[0mnormal\u001b[0m\u001b[1;33m)\u001b[0m\u001b[1;33m)\u001b[0m\u001b[1;33m>\u001b[0m\u001b[1;36m1\u001b[0m\u001b[1;33m)\u001b[0m\u001b[1;33m)\u001b[0m\u001b[1;33m\u001b[0m\u001b[1;33m\u001b[0m\u001b[0m\n\u001b[1;32m---> 34\u001b[1;33m             \u001b[1;36m1\u001b[0m\u001b[1;33m/\u001b[0m\u001b[1;36m0\u001b[0m\u001b[1;33m\u001b[0m\u001b[1;33m\u001b[0m\u001b[0m\n\u001b[0m\u001b[0;32m     35\u001b[0m         \u001b[0minlier_mask\u001b[0m \u001b[1;33m=\u001b[0m \u001b[0mnp\u001b[0m\u001b[1;33m.\u001b[0m\u001b[0mless_equal\u001b[0m\u001b[1;33m(\u001b[0m\u001b[0mdist_pt\u001b[0m\u001b[1;33m,\u001b[0m\u001b[0mthresh_d\u001b[0m\u001b[1;33m)\u001b[0m\u001b[1;33m*\u001b[0m\u001b[0mnp\u001b[0m\u001b[1;33m.\u001b[0m\u001b[0mgreater_equal\u001b[0m\u001b[1;33m(\u001b[0m\u001b[0mnp\u001b[0m\u001b[1;33m.\u001b[0m\u001b[0mabs\u001b[0m\u001b[1;33m(\u001b[0m\u001b[0mnp\u001b[0m\u001b[1;33m.\u001b[0m\u001b[0mdot\u001b[0m\u001b[1;33m(\u001b[0m\u001b[0mpcd_n\u001b[0m\u001b[1;33m,\u001b[0m\u001b[0mnormal\u001b[0m\u001b[1;33m)\u001b[0m\u001b[1;33m)\u001b[0m\u001b[1;33m,\u001b[0m\u001b[0mthresh_n\u001b[0m\u001b[1;33m)\u001b[0m\u001b[1;33m\u001b[0m\u001b[1;33m\u001b[0m\u001b[0m\n\u001b[0;32m     36\u001b[0m         \u001b[0mt4\u001b[0m \u001b[1;33m=\u001b[0m \u001b[0mtime\u001b[0m\u001b[1;33m.\u001b[0m\u001b[0mtime\u001b[0m\u001b[1;33m(\u001b[0m\u001b[1;33m)\u001b[0m\u001b[1;33m\u001b[0m\u001b[1;33m\u001b[0m\u001b[0m\n",
      "\u001b[1;31mZeroDivisionError\u001b[0m: division by zero"
     ]
    }
   ],
   "source": [
    "target_pcd = o3d.io.read_point_cloud(\"hough-plane-python-master\\RES\\map_go_5.pcd\")\n",
    "extract_planes(target_pcd)"
   ]
  }
 ],
 "metadata": {
  "kernelspec": {
   "display_name": "Python 3.9.7 ('base')",
   "language": "python",
   "name": "python3"
  },
  "language_info": {
   "codemirror_mode": {
    "name": "ipython",
    "version": 3
   },
   "file_extension": ".py",
   "mimetype": "text/x-python",
   "name": "python",
   "nbconvert_exporter": "python",
   "pygments_lexer": "ipython3",
   "version": "3.9.7"
  },
  "orig_nbformat": 4,
  "vscode": {
   "interpreter": {
    "hash": "07878c45a9b18549480ac2f9ecb8f16bb7162456cf654f6757bcff1d6396abe7"
   }
  }
 },
 "nbformat": 4,
 "nbformat_minor": 2
}
