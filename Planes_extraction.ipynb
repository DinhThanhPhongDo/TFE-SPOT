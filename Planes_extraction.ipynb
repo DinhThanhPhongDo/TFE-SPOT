{
 "cells": [
  {
   "cell_type": "code",
   "execution_count": 4,
   "metadata": {},
   "outputs": [],
   "source": [
    "import numpy as np\n",
    "import copy\n",
    "import open3d as o3d\n",
    "from sklearn.decomposition import PCA\n",
    "import time"
   ]
  },
  {
   "cell_type": "code",
   "execution_count": 5,
   "metadata": {},
   "outputs": [],
   "source": [
    "def ransac2(pcd, thresh=0.1,kn=2,epoch=1000) :\n",
    "    \"\"\"\n",
    "    points = np.array(N,3)\n",
    "    \"\"\"\n",
    "    t1 = time.time()\n",
    "    pts = np.array(pcd.points)\n",
    "    best_n_inliers = 0\n",
    "    i =0\n",
    "    pcd_tree = o3d.geometry.KDTreeFlann(pcd)\n",
    "    best_plane = [0,0,0,0]\n",
    "    best_inlier_mask = np.zeros(len(pts))\n",
    "    while (i < epoch) :\n",
    "        # TODO Générer un plan à partir de curr_pnt\n",
    "        # TODO Inlier/outlier \n",
    "        t2 = time.time()\n",
    "        curr_pnt = pts[np.random.randint(len(pts))]\n",
    "        [k, idx, _] = pcd_tree.search_knn_vector_3d(curr_pnt, kn)\n",
    "        pca = PCA(3)\n",
    "        pca.fit(pts[list(idx)])\n",
    "        mean = pca.mean_\n",
    "        normal = pca.components_[2,:]\n",
    "        d = np.dot(normal,mean)\n",
    "        plane = [normal[0],normal[1],normal[2],d]\n",
    "        t3 = time.time()\n",
    "        dist_pt     = abs(np.dot(normal[:3],pts.T) + d / np.linalg.norm(normal))\n",
    "        inlier_mask = np.less_equal(dist_pt,thresh)\n",
    "        t4 = time.time()\n",
    "        \n",
    "        n_inliers = np.sum(inlier_mask)\n",
    "        if n_inliers> best_n_inliers:\n",
    "            best_plane = plane\n",
    "            best_n_inliers = n_inliers\n",
    "            best_inlier_mask = inlier_mask\n",
    "        i += 1\n",
    "        t5 = time.time()\n",
    "    return best_plane,list(np.where(best_inlier_mask)[0])"
   ]
  },
  {
   "cell_type": "code",
   "execution_count": 6,
   "metadata": {},
   "outputs": [],
   "source": [
    "def ransac(pcd, thresh_d=0.1,thresh_n=0.9,kn=2,epoch=1000) :\n",
    "    \"\"\"\n",
    "    points = np.array(N,3)\n",
    "    \"\"\"\n",
    "\n",
    "    t1 = time.time()\n",
    "    pts = np.array(pcd.points)\n",
    "    \n",
    "    best_n_inliers = 0\n",
    "    i =0\n",
    "    pcd_tree = o3d.geometry.KDTreeFlann(pcd)\n",
    "    \n",
    "    best_plane = [0,0,0,0]\n",
    "    best_inlier_mask = np.zeros(len(pts))\n",
    "\n",
    "    pts.estimate_normals(search_param=o3d.geometry.KDTreeSearchParamHybrid(radius=0.1, max_nn=30))\n",
    "    pts_n = np.asarray(pts.normals)\n",
    "    while (i < epoch) :\n",
    "        # TODO Générer un plan à partir de curr_pnt\n",
    "        # TODO Inlier/outlier \n",
    "        t2 = time.time()\n",
    "        curr_pnt = pts[np.random.randint(len(pts))]\n",
    "        [k, idx, _] = pcd_tree.search_knn_vector_3d(curr_pnt, kn)\n",
    "        pca = PCA(3)\n",
    "        pca.fit(pts[list(idx)])\n",
    "        mean = pca.mean_\n",
    "        normal = pca.components_[2,:]\n",
    "        d = np.dot(normal,mean)\n",
    "        plane = [normal[0],normal[1],normal[2],d]\n",
    "        t3 = time.time()\n",
    "        dist_pt     = abs(np.dot(normal[:3],pts.T) + d / np.linalg.norm(normal))\n",
    "        inlier_mask = np.less_equal(dist_pt,thresh_d)*np.greater_equal(np.abs(np.dot(pts_n,normal)),thresh_n)\n",
    "        t4 = time.time()\n",
    "        \n",
    "        n_inliers = np.sum(inlier_mask)\n",
    "        if n_inliers> best_n_inliers:\n",
    "            best_plane = plane\n",
    "            best_n_inliers = n_inliers\n",
    "            best_inlier_mask = inlier_mask\n",
    "        i += 1\n",
    "        t5 = time.time()\n",
    "    return best_plane,list(np.where(best_inlier_mask)[0])"
   ]
  },
  {
   "cell_type": "code",
   "execution_count": 7,
   "metadata": {},
   "outputs": [],
   "source": [
    "def extract_planes(pcd) :\n",
    "    pcd_plane = pcd.voxel_down_sample(voxel_size=0.1)\n",
    "    #pcd_plane = copy.deepcopy(pcd)\n",
    "    planes = []\n",
    "    inlierss = []\n",
    "    while(len(planes)<7 and len(pcd_plane.points) > 100) :\n",
    "        # plane_model, inliers = ransac(pcd_plane,kn = 5, epoch=10000)\n",
    "        plane_model, inliers = pcd_plane.segment_plane(distance_threshold=0.1,\n",
    "                                         ransac_n=3,\n",
    "                                         num_iterations=10000)\n",
    "        [a, b, c, d] = plane_model\n",
    "        print(f\"Plane equation: {a:.2f}x + {b:.2f}y + {c:.2f}z + {d:.2f} = 0\")\n",
    "        inlier_cloud = pcd_plane.select_by_index(inliers)\n",
    "        inlier_cloud.estimate_normals(\n",
    "        o3d.geometry.KDTreeSearchParamHybrid(radius=0.1, max_nn=30))\n",
    "        inlier_cloud.paint_uniform_color([1.0, 0, 0])\n",
    "        \n",
    "        outlier_cloud = pcd_plane.select_by_index(inliers, invert=True)\n",
    "        outlier_cloud.paint_uniform_color([0, 1.0, 0])\n",
    "        \n",
    "        # o3d.visualization.draw_geometries([inlier_cloud, outlier_cloud],\n",
    "        #                                 zoom=0.8,\n",
    "        #                                 front=[-0.4999, -0.1659, -0.8499],\n",
    "        #                                 lookat=[2.1813, 2.0619, 2.0999],\n",
    "        #                                 up=[0.1204, -0.9852, 0.1215])\n",
    "\n",
    "        pcd_plane = outlier_cloud\n",
    "        planes.append(plane_model)\n",
    "        inlierss.append(inlier_cloud)\n",
    "\n",
    "        # TODO remove points according to the plane\n",
    "    \n",
    "    o3d.visualization.draw_geometries(inlierss+[outlier_cloud],\n",
    "                                        zoom=0.8,\n",
    "                                        front=[-0.4999, -0.1659, -0.8499],\n",
    "                                        lookat=[2.1813, 2.0619, 2.0999],\n",
    "                                        up=[0.1204, -0.9852, 0.1215])\n",
    "    return planes"
   ]
  },
  {
   "cell_type": "code",
   "execution_count": 8,
   "metadata": {},
   "outputs": [
    {
     "name": "stdout",
     "output_type": "stream",
     "text": [
      "Plane equation: -0.01x + 0.00y + 1.00z + -1.63 = 0\n",
      "Plane equation: -0.01x + 0.01y + 1.00z + 1.26 = 0\n",
      "Plane equation: -0.01x + 1.00y + 0.01z + -3.13 = 0\n",
      "Plane equation: -0.02x + 0.04y + 1.00z + 0.53 = 0\n",
      "Plane equation: 0.01x + 1.00y + 0.00z + 1.48 = 0\n",
      "Plane equation: 1.00x + 0.01y + 0.02z + 2.55 = 0\n",
      "Plane equation: 0.01x + -0.01y + 1.00z + -1.34 = 0\n"
     ]
    },
    {
     "data": {
      "text/plain": [
       "[array([-0.00720687,  0.00471262,  0.99996293, -1.62744139]),\n",
       " array([-0.01156345,  0.0065006 ,  0.99991201,  1.25724642]),\n",
       " array([-0.0071907 ,  0.99992586,  0.00982678, -3.1252162 ]),\n",
       " array([-0.01585049,  0.04131952,  0.99902025,  0.53319849]),\n",
       " array([0.01142435, 0.99992512, 0.00438696, 1.47870091]),\n",
       " array([0.99968087, 0.00980764, 0.02328006, 2.54716976]),\n",
       " array([ 0.00584478, -0.00903204,  0.99994213, -1.34392135])]"
      ]
     },
     "execution_count": 8,
     "metadata": {},
     "output_type": "execute_result"
    }
   ],
   "source": [
    "target_pcd = o3d.io.read_point_cloud(\"hough-plane-python-master/room_scan1.pcd\")\n",
    "extract_planes(target_pcd)"
   ]
  }
 ],
 "metadata": {
  "kernelspec": {
   "display_name": "Python 3.7.4 ('base')",
   "language": "python",
   "name": "python3"
  },
  "language_info": {
   "codemirror_mode": {
    "name": "ipython",
    "version": 3
   },
   "file_extension": ".py",
   "mimetype": "text/x-python",
   "name": "python",
   "nbconvert_exporter": "python",
   "pygments_lexer": "ipython3",
   "version": "3.7.4"
  },
  "orig_nbformat": 4,
  "vscode": {
   "interpreter": {
    "hash": "df2b07421fa4e9cc5307167e6b92780d151dc99fb3229a63b89339ebefdde85d"
   }
  }
 },
 "nbformat": 4,
 "nbformat_minor": 2
}
