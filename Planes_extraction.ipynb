{
 "cells": [
  {
   "cell_type": "code",
   "execution_count": null,
   "metadata": {},
   "outputs": [],
   "source": [
    "import numpy as np\n",
    "import copy"
   ]
  },
  {
   "cell_type": "code",
   "execution_count": null,
   "metadata": {},
   "outputs": [],
   "source": [
    "def ransac(pcd, nb_epochs=9999) :\n",
    "    curr_pnt = pcd[np.random(len(pcd))]\n",
    "    while (iter < nb_epochs) :\n",
    "        # TODO Générer un plan à partir de curr_pnt\n",
    "        # TODO Inlier/outlier \n",
    "    return plane"
   ]
  },
  {
   "cell_type": "code",
   "execution_count": null,
   "metadata": {},
   "outputs": [],
   "source": [
    "def extract_planes(pcd) :\n",
    "    pcd_plane = copy.deepcopy(pcd)\n",
    "    planes = []\n",
    "    while(True) :\n",
    "        plane = ransac(pcd_plane)\n",
    "        planes.append(plane)\n",
    "        # TODO remove points according to the plane\n",
    "    return planes"
   ]
  }
 ],
 "metadata": {
  "kernelspec": {
   "display_name": "Python 3.9.7 ('base')",
   "language": "python",
   "name": "python3"
  },
  "language_info": {
   "name": "python",
   "version": "3.9.7"
  },
  "orig_nbformat": 4,
  "vscode": {
   "interpreter": {
    "hash": "07878c45a9b18549480ac2f9ecb8f16bb7162456cf654f6757bcff1d6396abe7"
   }
  }
 },
 "nbformat": 4,
 "nbformat_minor": 2
}
