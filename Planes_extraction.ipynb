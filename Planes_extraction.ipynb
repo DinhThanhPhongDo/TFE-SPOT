{
 "cells": [
  {
   "cell_type": "code",
   "execution_count": 45,
   "metadata": {},
   "outputs": [],
   "source": [
    "import numpy as np\n",
    "import copy\n",
    "import open3d as o3d\n",
    "from sklearn.decomposition import PCA\n",
    "import time"
   ]
  },
  {
   "cell_type": "code",
   "execution_count": 2,
   "metadata": {},
   "outputs": [],
   "source": [
    "def ransac(pcd, nb_epochs=1, kn = 10) :\n",
    "    pcd_tree = o3d.geometry.KDTreeFlann(pcd)\n",
    "    iter = 0\n",
    "    points = np.array(pcd.points)\n",
    "    while (iter < nb_epochs) :\n",
    "        print(len(points))\n",
    "        curr_pnt = points[np.random.randint(len(points))]\n",
    "        print(curr_pnt)\n",
    "        # TODO Générer un plan à partir de curr_pnt\n",
    "        [k, idx, _] = pcd_tree.search_knn_vector_3d(curr_pnt, kn)\n",
    "        print(idx)\n",
    "        pca = PCA(3)\n",
    "        pca.fit(points[list(idx)])\n",
    "        mean = np.mean(pca.components_, axis=1)\n",
    "        print(mean)\n",
    "        es = pca.singular_values_\n",
    "        print(es)\n",
    "        plane = [es[0],es[1],es[2],es[0]*mean[0]+es[1]*mean[1]+es[2]*mean[2]]\n",
    "        print(plane)\n",
    "        o3d.visualization.draw_geometries([pcd],\n",
    "                                    zoom=0.455,\n",
    "                                    front=[-0.4999, -0.1659, -0.8499],\n",
    "                                    lookat=[2.1813, 2.0619, 2.0999],\n",
    "                                    up=[0.1204, -0.9852, 0.1215])\n",
    "        # TODO Inlier/outlier \n",
    "\n",
    "        iter+=1\n",
    "    return plane"
   ]
  },
  {
   "cell_type": "code",
   "execution_count": 89,
   "metadata": {},
   "outputs": [],
   "source": [
    "def ransac(pcd, thresh=0.1,kn=2,epoch=1000) :\n",
    "    \"\"\"\n",
    "    points = np.array(N,3)\n",
    "    \"\"\"\n",
    "    t1 = time.time()\n",
    "    pts = np.array(pcd.points)\n",
    "    best_n_inliers = 0\n",
    "    i =0\n",
    "    pcd_tree = o3d.geometry.KDTreeFlann(pcd)\n",
    "    best_plane = [0,0,0,0]\n",
    "    best_inlier_mask = np.zeros(len(pts))\n",
    "    while (i < epoch) :\n",
    "        # TODO Générer un plan à partir de curr_pnt\n",
    "        # TODO Inlier/outlier \n",
    "        t2 = time.time()\n",
    "        curr_pnt = pts[np.random.randint(len(pts))]\n",
    "        [k, idx, _] = pcd_tree.search_knn_vector_3d(curr_pnt, kn)\n",
    "        pca = PCA(3)\n",
    "        pca.fit(pts[list(idx)])\n",
    "        mean = pca.mean_\n",
    "        normal = pca.components_[2,:]\n",
    "        d = np.dot(normal,mean)\n",
    "        plane = [normal[0],normal[1],normal[2],d]\n",
    "        t3 = time.time()\n",
    "        dist_pt     = abs(np.dot(normal[:3],pts.T) + d / np.linalg.norm(normal))\n",
    "        inlier_mask = np.less_equal(dist_pt,thresh)\n",
    "        t4 = time.time()\n",
    "        n_inliers = np.sum(inlier_mask)\n",
    "        if n_inliers> best_n_inliers:\n",
    "            best_plane = plane\n",
    "            best_n_inliers = n_inliers\n",
    "            best_inlier_mask = inlier_mask\n",
    "        i += 1\n",
    "        t5 = time.time()\n",
    "    return best_plane,list(np.where(best_inlier_mask)[0])"
   ]
  },
  {
   "cell_type": "code",
   "execution_count": 120,
   "metadata": {},
   "outputs": [],
   "source": [
    "def extract_planes(pcd) :\n",
    "    pcd_plane = pcd.voxel_down_sample(voxel_size=0.1)\n",
    "    #pcd_plane = copy.deepcopy(pcd)\n",
    "    planes = []\n",
    "    inlierss = []\n",
    "    while(len(planes)<7 and len(pcd_plane.points) > 100) :\n",
    "        # plane_model, inliers = ransac(pcd_plane,kn = 5, epoch=10000)\n",
    "        plane_model, inliers = pcd_plane.segment_plane(distance_threshold=0.1,\n",
    "                                         ransac_n=3,\n",
    "                                         num_iterations=10000)\n",
    "        [a, b, c, d] = plane_model\n",
    "        print(f\"Plane equation: {a:.2f}x + {b:.2f}y + {c:.2f}z + {d:.2f} = 0\")\n",
    "        inlier_cloud = pcd_plane.select_by_index(inliers)\n",
    "        inlier_cloud.estimate_normals(\n",
    "        o3d.geometry.KDTreeSearchParamHybrid(radius=0.1, max_nn=30))\n",
    "        inlier_cloud.paint_uniform_color([1.0, 0, 0])\n",
    "        \n",
    "        outlier_cloud = pcd_plane.select_by_index(inliers, invert=True)\n",
    "        outlier_cloud.paint_uniform_color([0, 1.0, 0])\n",
    "        \n",
    "        # o3d.visualization.draw_geometries([inlier_cloud, outlier_cloud],\n",
    "        #                                 zoom=0.8,\n",
    "        #                                 front=[-0.4999, -0.1659, -0.8499],\n",
    "        #                                 lookat=[2.1813, 2.0619, 2.0999],\n",
    "        #                                 up=[0.1204, -0.9852, 0.1215])\n",
    "\n",
    "        pcd_plane = outlier_cloud\n",
    "        planes.append(plane_model)\n",
    "        inlierss.append(inlier_cloud)\n",
    "\n",
    "        # TODO remove points according to the plane\n",
    "    \n",
    "    o3d.visualization.draw_geometries(inlierss+[outlier_cloud],\n",
    "                                        zoom=0.8,\n",
    "                                        front=[-0.4999, -0.1659, -0.8499],\n",
    "                                        lookat=[2.1813, 2.0619, 2.0999],\n",
    "                                        up=[0.1204, -0.9852, 0.1215])\n",
    "    return planes"
   ]
  },
  {
   "cell_type": "code",
   "execution_count": 121,
   "metadata": {},
   "outputs": [
    {
     "name": "stdout",
     "output_type": "stream",
     "text": [
      "Plane equation: 0.01x + -0.00y + 1.00z + 0.73 = 0\n",
      "Plane equation: 0.01x + -0.00y + 1.00z + -1.55 = 0\n",
      "Plane equation: 0.01x + -0.00y + 1.00z + -1.34 = 0\n",
      "Plane equation: 0.01x + 0.02y + 1.00z + -0.11 = 0\n",
      "Plane equation: 0.01x + 0.01y + 1.00z + 0.25 = 0\n",
      "Plane equation: 0.01x + 0.02y + 1.00z + -0.40 = 0\n",
      "Plane equation: 0.02x + 0.02y + 1.00z + -0.60 = 0\n"
     ]
    },
    {
     "ename": "KeyboardInterrupt",
     "evalue": "",
     "output_type": "error",
     "traceback": [
      "\u001b[1;31m---------------------------------------------------------------------------\u001b[0m",
      "\u001b[1;31mKeyboardInterrupt\u001b[0m                         Traceback (most recent call last)",
      "\u001b[1;32m~\\AppData\\Local\\Temp/ipykernel_6268/2894413393.py\u001b[0m in \u001b[0;36m<module>\u001b[1;34m\u001b[0m\n\u001b[0;32m      1\u001b[0m \u001b[0mtarget_pcd\u001b[0m \u001b[1;33m=\u001b[0m \u001b[0mo3d\u001b[0m\u001b[1;33m.\u001b[0m\u001b[0mio\u001b[0m\u001b[1;33m.\u001b[0m\u001b[0mread_point_cloud\u001b[0m\u001b[1;33m(\u001b[0m\u001b[1;34m\"hough-plane-python-master\\RES\\map_go_5.pcd\"\u001b[0m\u001b[1;33m)\u001b[0m\u001b[1;33m\u001b[0m\u001b[1;33m\u001b[0m\u001b[0m\n\u001b[1;32m----> 2\u001b[1;33m \u001b[0mextract_planes\u001b[0m\u001b[1;33m(\u001b[0m\u001b[0mtarget_pcd\u001b[0m\u001b[1;33m)\u001b[0m\u001b[1;33m\u001b[0m\u001b[1;33m\u001b[0m\u001b[0m\n\u001b[0m",
      "\u001b[1;31mKeyboardInterrupt\u001b[0m: "
     ]
    }
   ],
   "source": [
    "target_pcd = o3d.io.read_point_cloud(\"hough-plane-python-master/room_scan1.pcd\")\n",
    "extract_planes(target_pcd)"
   ]
  }
 ],
 "metadata": {
  "kernelspec": {
   "display_name": "Python 3.9.7 ('base')",
   "language": "python",
   "name": "python3"
  },
  "language_info": {
   "codemirror_mode": {
    "name": "ipython",
    "version": 3
   },
   "file_extension": ".py",
   "mimetype": "text/x-python",
   "name": "python",
   "nbconvert_exporter": "python",
   "pygments_lexer": "ipython3",
   "version": "3.9.7"
  },
  "orig_nbformat": 4,
  "vscode": {
   "interpreter": {
    "hash": "07878c45a9b18549480ac2f9ecb8f16bb7162456cf654f6757bcff1d6396abe7"
   }
  }
 },
 "nbformat": 4,
 "nbformat_minor": 2
}
