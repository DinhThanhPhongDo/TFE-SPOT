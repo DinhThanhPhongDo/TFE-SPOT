{
 "cells": [
  {
   "cell_type": "code",
   "execution_count": 1,
   "metadata": {},
   "outputs": [
    {
     "name": "stdout",
     "output_type": "stream",
     "text": [
      "Jupyter environment detected. Enabling Open3D WebVisualizer.\n",
      "[Open3D INFO] WebRTC GUI backend enabled.\n",
      "[Open3D INFO] WebRTCWindowSystem: HTTP handshake server disabled.\n"
     ]
    }
   ],
   "source": [
    "import copy\n",
    "import open3d as o3d\n",
    "import numpy as np"
   ]
  },
  {
   "cell_type": "markdown",
   "metadata": {},
   "source": [
    "### Matching"
   ]
  },
  {
   "cell_type": "markdown",
   "metadata": {},
   "source": [
    "### Change detection"
   ]
  },
  {
   "cell_type": "code",
   "execution_count": 5,
   "metadata": {},
   "outputs": [],
   "source": [
    "#Import point clouds. Run ChangeDetection0 if missing files\n",
    "\n",
    "source_pcd_t = o3d.io.read_point_cloud(\"TestData/test_before/pcd/source_pcd_t.pcd\")\n",
    "target_pcd = o3d.io.read_point_cloud(\"TestData/test_after/pcd/map_go_all.pcd\")\n",
    "# T = np.load(\"TestData/test_after/pcd/T.npy\")\n"
   ]
  },
  {
   "cell_type": "code",
   "execution_count": 6,
   "metadata": {},
   "outputs": [],
   "source": [
    "def change_detection(source_pcd_t,target_pcd,kn,epsilon):\n",
    "    \"\"\"\n",
    "        detect added object (green) and unchanged object (red).\n",
    "        epsilon = threshold for change detection\n",
    "        kn = number of neighbour\n",
    "    \"\"\"\n",
    "\n",
    "    source_pcd_t.paint_uniform_color([1, 0.706, 0]) #yellow\n",
    "    # source_pcd_t.paint_uniform_color([1, 1, 1]) #white\n",
    "    target_pcd.paint_uniform_color([0, 0.651, 0.929]) # light blue\n",
    "    # target_pcd.paint_uniform_color([1, 1, 1]) #white\n",
    "\n",
    "    #Do k-D Tree\n",
    "    pcd_tree = o3d.geometry.KDTreeFlann(source_pcd_t)\n",
    "\n",
    "    #target test points\n",
    "    test_pts = np.arange(0,len(target_pcd.points),1)\n",
    "\n",
    "\n",
    "    for i in test_pts:\n",
    "\n",
    "        # Find its kn nearest neighbors, and paint them blue.\n",
    "        [k, idx, _] = pcd_tree.search_knn_vector_3d(target_pcd.points[i], kn)\n",
    "\n",
    "        idx = np.asarray(idx)\n",
    "        norm =0\n",
    "        \n",
    "        for j in idx:\n",
    "            norm += np.linalg.norm(source_pcd_t.points[j] - target_pcd.points[i])\n",
    "\n",
    "        if norm >= epsilon:\n",
    "            # print(\"norm =\",norm)\n",
    "            # print(idx)\n",
    "            target_pcd.colors[i] = [0, 1, 0] #green\n",
    "        # else: target_pcd.colors[i] = [1, 0, 0] #red\n",
    "    return target_pcd, source_pcd_t\n",
    "target_pcd, source_pcd_t = change_detection(source_pcd_t,target_pcd,kn=1,epsilon=0.25)\n"
   ]
  },
  {
   "cell_type": "code",
   "execution_count": null,
   "metadata": {},
   "outputs": [],
   "source": [
    "o3d.visualization.draw_geometries([target_pcd, source_pcd_t],\n",
    "                                        zoom=0.4459,\n",
    "                                        front=[0.9288, -0.2951, -0.2242],\n",
    "                                        lookat=[1.6784, 2.0612, 1.4451],\n",
    "                                        up=[-0.3402, -0.9189, -0.1996])"
   ]
  }
 ],
 "metadata": {
  "kernelspec": {
   "display_name": "Python 3.9.7 ('base')",
   "language": "python",
   "name": "python3"
  },
  "language_info": {
   "codemirror_mode": {
    "name": "ipython",
    "version": 3
   },
   "file_extension": ".py",
   "mimetype": "text/x-python",
   "name": "python",
   "nbconvert_exporter": "python",
   "pygments_lexer": "ipython3",
   "version": "3.9.7"
  },
  "orig_nbformat": 4,
  "vscode": {
   "interpreter": {
    "hash": "07878c45a9b18549480ac2f9ecb8f16bb7162456cf654f6757bcff1d6396abe7"
   }
  }
 },
 "nbformat": 4,
 "nbformat_minor": 2
}
