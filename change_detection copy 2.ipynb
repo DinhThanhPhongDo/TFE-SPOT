{
 "cells": [
  {
   "cell_type": "code",
   "execution_count": 195,
   "metadata": {},
   "outputs": [],
   "source": [
    "import copy\n",
    "import open3d as o3d\n",
    "import numpy as np"
   ]
  },
  {
   "cell_type": "markdown",
   "metadata": {},
   "source": [
    "### Matching"
   ]
  },
  {
   "cell_type": "markdown",
   "metadata": {},
   "source": [
    "### Change detection"
   ]
  },
  {
   "cell_type": "code",
   "execution_count": 196,
   "metadata": {},
   "outputs": [],
   "source": [
    "#Import point clouds \n",
    "source_pcd_t = o3d.io.read_point_cloud(\"TestData/test_before/pcd/source_pcd_t.pcd\")\n",
    "target_pcd = o3d.io.read_point_cloud(\"TestData/test_after/pcd/map_go_5.pcd\")\n",
    "T = np.load(\"TestData/test_after/pcd/T.npy\")\n"
   ]
  },
  {
   "cell_type": "code",
   "execution_count": 197,
   "metadata": {},
   "outputs": [],
   "source": [
    "source_pcd_t.paint_uniform_color([0.5, 0.5, 0.5])\n",
    "pcd_tree = o3d.geometry.KDTreeFlann(source_pcd_t)\n"
   ]
  },
  {
   "cell_type": "code",
   "execution_count": 198,
   "metadata": {},
   "outputs": [
    {
     "name": "stdout",
     "output_type": "stream",
     "text": [
      "Testing kdtree in Open3D...\n",
      "Load a point cloud and paint it gray.\n"
     ]
    }
   ],
   "source": [
    "def essai1(source_pcd_t,target_pcd,epsilon):\n",
    "    print(\"Testing kdtree in Open3D...\")\n",
    "    print(\"Load a point cloud and paint it gray.\")\n",
    "\n",
    "    # source_pcd_t.paint_uniform_color([1, 0.706, 0]) #yellow\n",
    "    source_pcd_t.paint_uniform_color([1, 1, 1]) #white\n",
    "    target_pcd.paint_uniform_color([0, 0.651, 0.929]) #blue\n",
    "    # target_pcd.paint_uniform_color([1, 1, 1]) #white\n",
    "\n",
    "    pcd_tree = o3d.geometry.KDTreeFlann(source_pcd_t)\n",
    "\n",
    "    #target test points\n",
    "    test_pts = [10000]#np.arange(0,200000,10)\n",
    "    test_pts = np.arange(80000,120000,1)\n",
    "\n",
    "\n",
    "    for i in test_pts:\n",
    "        #Paint the 1501st point red.\n",
    "        \n",
    "        # Find its 200 nearest neighbors, and paint them blue.\n",
    "        [k, idx, _] = pcd_tree.search_knn_vector_3d(target_pcd.points[i], 1)\n",
    "        # print(np.asarray(idx))\n",
    "        # print(idx[0:])\n",
    "        # np.asarray(source_pcd_t.colors)[idx[1:], :] = [1, 0, 0]\n",
    "        idx = np.asarray(idx)\n",
    "        norm =0\n",
    "        \n",
    "        for j in idx:\n",
    "            norm += np.linalg.norm(source_pcd_t.points[j] - target_pcd.points[i])\n",
    "\n",
    "        if norm >= epsilon:\n",
    "            print(\"norm =\",norm)\n",
    "            # print(idx)\n",
    "            target_pcd.colors[i] = [0, 1, 0]\n",
    "        else:\n",
    "            target_pcd.colors[i] = [1, 0, 0]\n",
    "            # np.asarray(source_pcd_t.colors)[idx[1:], :] = [0, 0, 1]\n",
    "            # np.asarray(target_pcd.colors)[idx[1:], :] = [0, 1, 0]\n",
    "                # np.asarray(source_pcd_t.colors)[idx[1:], :] = [0, 0, 1]\n",
    "        #np.asarray(source_pcd_t.colors)[idx[1:], :] = [0, 0, 1]\n",
    "        # print(source_pcd_t.points[idx[1:],:])\n",
    "\n",
    "\n",
    "\n",
    "    o3d.visualization.draw_geometries([target_pcd, source_pcd_t],\n",
    "                                        zoom=0.4459,\n",
    "                                        front=[0.9288, -0.2951, -0.2242],\n",
    "                                        lookat=[1.6784, 2.0612, 1.4451],\n",
    "                                        up=[-0.3402, -0.9189, -0.1996])\n",
    "    return\n",
    "essai1(source_pcd_t,target_pcd,epsilon=10)"
   ]
  },
  {
   "cell_type": "code",
   "execution_count": null,
   "metadata": {},
   "outputs": [],
   "source": []
  }
 ],
 "metadata": {
  "kernelspec": {
   "display_name": "Python 3.7.4 ('base')",
   "language": "python",
   "name": "python3"
  },
  "language_info": {
   "codemirror_mode": {
    "name": "ipython",
    "version": 3
   },
   "file_extension": ".py",
   "mimetype": "text/x-python",
   "name": "python",
   "nbconvert_exporter": "python",
   "pygments_lexer": "ipython3",
   "version": "3.7.4"
  },
  "orig_nbformat": 4,
  "vscode": {
   "interpreter": {
    "hash": "df2b07421fa4e9cc5307167e6b92780d151dc99fb3229a63b89339ebefdde85d"
   }
  }
 },
 "nbformat": 4,
 "nbformat_minor": 2
}
