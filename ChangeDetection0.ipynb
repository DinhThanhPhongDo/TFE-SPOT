{
 "cells": [
  {
   "cell_type": "code",
   "execution_count": 1,
   "metadata": {},
   "outputs": [
    {
     "name": "stdout",
     "output_type": "stream",
     "text": [
      "Jupyter environment detected. Enabling Open3D WebVisualizer.\n",
      "[Open3D INFO] WebRTC GUI backend enabled.\n",
      "[Open3D INFO] WebRTCWindowSystem: HTTP handshake server disabled.\n"
     ]
    }
   ],
   "source": [
    "import copy\n",
    "import open3d as o3d\n",
    "import numpy as np"
   ]
  },
  {
   "cell_type": "markdown",
   "metadata": {},
   "source": [
    "### Matching"
   ]
  },
  {
   "cell_type": "code",
   "execution_count": 2,
   "metadata": {},
   "outputs": [],
   "source": [
    "def draw_registration_result(source, target, transformation= np.identity(4)):\n",
    "    source_temp = copy.deepcopy(source)\n",
    "    target_temp = copy.deepcopy(target)\n",
    "    source_temp.paint_uniform_color([1, 0.706, 0])\n",
    "    target_temp.paint_uniform_color([0, 0.651, 0.929])\n",
    "    source_temp.transform(transformation)\n",
    "\n",
    "    o3d.visualization.draw_geometries([source_temp, target_temp],\n",
    "                                      zoom=0.4459,\n",
    "                                      front=[0.9288, -0.2951, -0.2242],\n",
    "                                      lookat=[1.6784, 2.0612, 1.4451],\n",
    "                                      up=[-0.3402, -0.9189, -0.1996])\n",
    "\n",
    "def preprocess_point_cloud(pcd, voxel_size):\n",
    "    print(\":: Downsample with a voxel size %.3f.\" % voxel_size)\n",
    "    pcd_down = pcd.voxel_down_sample(voxel_size)\n",
    "\n",
    "    radius_normal = voxel_size * 2\n",
    "    print(\":: Estimate normal with search radius %.3f.\" % radius_normal)\n",
    "    pcd_down.estimate_normals(\n",
    "        o3d.geometry.KDTreeSearchParamHybrid(radius=radius_normal, max_nn=30))\n",
    "\n",
    "    radius_feature = voxel_size * 5\n",
    "    print(\":: Compute FPFH feature with search radius %.3f.\" % radius_feature)\n",
    "    pcd_fpfh = o3d.pipelines.registration.compute_fpfh_feature(\n",
    "        pcd_down,\n",
    "        o3d.geometry.KDTreeSearchParamHybrid(radius=radius_feature, max_nn=100))\n",
    "    return pcd_down, pcd_fpfh\n",
    "\n",
    "def prepare_dataset(source, target, voxel_size = 0.05):\n",
    "    print(\":: Load two point clouds and disturb initial pose.\")\n",
    "\n",
    "    source_down, source_fpfh = preprocess_point_cloud(source, voxel_size)\n",
    "    target_down, target_fpfh = preprocess_point_cloud(target, voxel_size)\n",
    "    return source_down, target_down, source_fpfh, target_fpfh\n",
    "\n",
    "def execute_global_registration(source_down, target_down, source_fpfh,\n",
    "                                target_fpfh, voxel_size):\n",
    "    distance_threshold = voxel_size * 1.5\n",
    "    print(\":: RANSAC registration on downsampled point clouds.\")\n",
    "    print(\"   Since the downsampling voxel size is %.3f,\" % voxel_size)\n",
    "    print(\"   we use a liberal distance threshold %.3f.\" % distance_threshold)\n",
    "    result = o3d.pipelines.registration.registration_ransac_based_on_feature_matching(\n",
    "        source_down, target_down, source_fpfh, target_fpfh, True,\n",
    "        distance_threshold,\n",
    "        o3d.pipelines.registration.TransformationEstimationPointToPoint(False),\n",
    "        3, [\n",
    "            o3d.pipelines.registration.CorrespondenceCheckerBasedOnEdgeLength(\n",
    "                0.9),\n",
    "            o3d.pipelines.registration.CorrespondenceCheckerBasedOnDistance(\n",
    "                distance_threshold)\n",
    "        ], o3d.pipelines.registration.RANSACConvergenceCriteria(100000, 0.999))\n",
    "    return result\n",
    "\n",
    "def refine_registration(source, target, result_ransac, voxel_size):\n",
    "    distance_threshold = voxel_size * 0.4\n",
    "    print(\":: Point-to-plane ICP registration is applied on original point\")\n",
    "    print(\"   clouds to refine the alignment. This time we use a strict\")\n",
    "    print(\"   distance threshold %.3f.\" % distance_threshold)\n",
    "    radius_normal = voxel_size * 2\n",
    "    source.estimate_normals(\n",
    "        o3d.geometry.KDTreeSearchParamHybrid(radius=radius_normal, max_nn=30))\n",
    "    target.estimate_normals(\n",
    "        o3d.geometry.KDTreeSearchParamHybrid(radius=radius_normal, max_nn=30))\n",
    "    result = o3d.pipelines.registration.registration_icp(\n",
    "        source, target, distance_threshold, result_ransac.transformation,\n",
    "        o3d.pipelines.registration.TransformationEstimationPointToPlane())\n",
    "    return result\n"
   ]
  },
  {
   "cell_type": "markdown",
   "metadata": {},
   "source": [
    "### Change detection"
   ]
  },
  {
   "cell_type": "code",
   "execution_count": 3,
   "metadata": {},
   "outputs": [
    {
     "name": "stdout",
     "output_type": "stream",
     "text": [
      ":: Load two point clouds and disturb initial pose.\n",
      ":: Downsample with a voxel size 0.500.\n",
      ":: Estimate normal with search radius 1.000.\n",
      ":: Compute FPFH feature with search radius 2.500.\n",
      ":: Downsample with a voxel size 0.500.\n",
      ":: Estimate normal with search radius 1.000.\n",
      ":: Compute FPFH feature with search radius 2.500.\n",
      ":: RANSAC registration on downsampled point clouds.\n",
      "   Since the downsampling voxel size is 0.500,\n",
      "   we use a liberal distance threshold 0.750.\n",
      ":: Point-to-plane ICP registration is applied on original point\n",
      "   clouds to refine the alignment. This time we use a strict\n",
      "   distance threshold 0.200.\n",
      "[[ 0.92043419  0.39089269  0.00194994  0.09573761]\n",
      " [-0.39089046  0.92037594  0.01061944  0.27213607]\n",
      " [ 0.00235638 -0.01053671  0.99994171 -0.00349512]\n",
      " [ 0.          0.          0.          1.        ]]\n"
     ]
    }
   ],
   "source": [
    "#Import point clouds\n",
    "source_pcd = o3d.io.read_point_cloud(\"TestData/test_before/pcd/map_go_5.pcd\")\n",
    "target_pcd = o3d.io.read_point_cloud(\"TestData/test_after/pcd/map_go_5.pcd\")\n",
    "\n",
    "#Prepare dataset & Apply transformations (RANSAC & ICP)\n",
    "voxel_size=0.5\n",
    "\n",
    "source_down, target_down, source_fpfh, target_fpfh = prepare_dataset(source_pcd, target_pcd, voxel_size)\n",
    "result_ransac = execute_global_registration(source_down, target_down,\n",
    "                                            source_fpfh, target_fpfh,\n",
    "                                            voxel_size)\n",
    "\n",
    "result_icp = refine_registration(source_pcd, target_pcd, result_ransac,\n",
    "                                 voxel_size)\n",
    "#Store transormation matrix\n",
    "T = result_icp.transformation\n",
    "print(T)\n",
    "np.save(\"TestData/test_after/pcd/T\",T)"
   ]
  },
  {
   "cell_type": "code",
   "execution_count": 4,
   "metadata": {},
   "outputs": [],
   "source": [
    "# target_pcd_t = copy.deepcopy(target_pcd)\n",
    "source_pcd_t = copy.deepcopy(source_pcd)\n",
    "source_pcd_t.transform(T)\n",
    "o3d.io.write_point_cloud(\"TestData/test_before/pcd/source_pcd_t.pcd\",source_pcd_t)\n",
    "draw_registration_result(source_pcd_t, target_pcd)"
   ]
  },
  {
   "cell_type": "code",
   "execution_count": 5,
   "metadata": {},
   "outputs": [
    {
     "name": "stdout",
     "output_type": "stream",
     "text": [
      "Testing kdtree in Open3D...\n",
      "Load a point cloud and paint it gray.\n",
      "Paint the 1501st point red.\n",
      "Find its 200 nearest neighbors, and paint them blue.\n",
      "Visualize the point cloud.\n"
     ]
    }
   ],
   "source": [
    "# print(\"Testing kdtree in Open3D...\")\n",
    "# print(\"Load a point cloud and paint it gray.\")\n",
    "\n",
    "# source_pcd.paint_uniform_color([0.5, 0.5, 0.5])\n",
    "# pcd_tree = o3d.geometry.KDTreeFlann(source_pcd)\n",
    "\n",
    "# print(\"Paint the 1501st point red.\")\n",
    "# source_pcd.colors[1500] = [1, 0, 0]\n",
    "\n",
    "# print(\"Find its 200 nearest neighbors, and paint them blue.\")\n",
    "# [k, idx, _] = pcd_tree.search_knn_vector_3d(source_pcd.points[1500], 200)\n",
    "# np.asarray(source_pcd.colors)[idx[1:], :] = [0, 0, 1]\n",
    "\n",
    "# print(\"Visualize the point cloud.\")\n",
    "# o3d.visualization.draw_geometries([source_pcd],\n",
    "#                                   zoom=0.5599,\n",
    "#                                   front=[-0.4958, 0.8229, 0.2773],\n",
    "#                                   lookat=[2.1126, 1.0163, -1.8543],\n",
    "#                                   up=[0.1007, -0.2626, 0.9596])"
   ]
  }
 ],
 "metadata": {
  "kernelspec": {
   "display_name": "Python 3.7.4 ('base')",
   "language": "python",
   "name": "python3"
  },
  "language_info": {
   "codemirror_mode": {
    "name": "ipython",
    "version": 3
   },
   "file_extension": ".py",
   "mimetype": "text/x-python",
   "name": "python",
   "nbconvert_exporter": "python",
   "pygments_lexer": "ipython3",
   "version": "3.7.4"
  },
  "orig_nbformat": 4,
  "vscode": {
   "interpreter": {
    "hash": "df2b07421fa4e9cc5307167e6b92780d151dc99fb3229a63b89339ebefdde85d"
   }
  }
 },
 "nbformat": 4,
 "nbformat_minor": 2
}
